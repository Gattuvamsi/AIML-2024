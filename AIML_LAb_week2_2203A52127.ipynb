{
  "nbformat": 4,
  "nbformat_minor": 0,
  "metadata": {
    "colab": {
      "provenance": []
    },
    "kernelspec": {
      "name": "python3",
      "display_name": "Python 3"
    },
    "language_info": {
      "name": "python"
    }
  },
  "cells": [
    {
      "cell_type": "code",
      "execution_count": null,
      "metadata": {
        "colab": {
          "base_uri": "https://localhost:8080/"
        },
        "id": "U6YEiOojMLCp",
        "outputId": "600865ca-3a06-4036-9c93-0499c485d48b"
      },
      "outputs": [
        {
          "output_type": "stream",
          "name": "stdout",
          "text": [
            "0 1 3 2 4 5 "
          ]
        }
      ],
      "source": [
        "#Part 1 – Implement Breadth First Search Algorithm using a Queue.\n",
        "from collections import deque\n",
        "\n",
        "def bfs(graph, start):\n",
        "    visited = [False] * len(graph)\n",
        "    queue = deque([start])\n",
        "\n",
        "    while queue:\n",
        "        vertex = queue.popleft()\n",
        "        if not visited[vertex]:\n",
        "            print(vertex, end=\" \")\n",
        "            visited[vertex] = True\n",
        "            for neighbor in graph[vertex]:\n",
        "                if not visited[neighbor]:\n",
        "                    queue.append(neighbor)\n",
        "\n",
        "\n",
        "graph = {0: [1, 3], 1: [0, 2], 2: [1, 4], 3: [0, 4], 4: [2, 3,5],5:[4]}\n",
        "\n",
        "start_vertex = 0\n",
        "\n",
        "bfs(graph, start_vertex)"
      ]
    },
    {
      "cell_type": "code",
      "source": [
        "#Part 2 – Implement Depth First Search Algorithm using a Stack\n",
        "def dfs(graph, start):\n",
        "    visited = set()\n",
        "    stack = [start]\n",
        "\n",
        "    while stack:\n",
        "        vertex = stack.pop()\n",
        "\n",
        "        if vertex not in visited:\n",
        "            print(vertex)\n",
        "            visited.add(vertex)\n",
        "            stack.extend([neighbor for neighbor in graph[vertex] if neighbor not in visited])\n",
        "\n",
        "\n",
        "graph = {\n",
        "    'A': ['B', 'S'],\n",
        "    'B': ['A'],\n",
        "    'C': ['D', 'E', 'F', 'S'],\n",
        "    'D': ['C'],\n",
        "    'E': ['C', 'H'],\n",
        "    'F': ['C', 'G'],\n",
        "    'G': ['F', 'S'],\n",
        "    'H': ['E'],\n",
        "    'S': ['A', 'C', 'G']\n",
        "}\n",
        "\n",
        "\n",
        "start_node = 'A'\n",
        "dfs(graph, start_node)"
      ],
      "metadata": {
        "colab": {
          "base_uri": "https://localhost:8080/"
        },
        "id": "YlzaEwz3QvWh",
        "outputId": "33d88771-c86c-4f54-9293-5de52b58879d"
      },
      "execution_count": null,
      "outputs": [
        {
          "output_type": "stream",
          "name": "stdout",
          "text": [
            "A\n",
            "S\n",
            "G\n",
            "F\n",
            "C\n",
            "E\n",
            "H\n",
            "D\n",
            "B\n"
          ]
        }
      ]
    },
    {
      "cell_type": "code",
      "source": [
        "#Part 3 – Implement A* Algorithm using Numpy\n",
        "\n",
        "\n",
        "from heapq import heappush, heappop\n",
        "initial_state = ((2, 8, 3), (1, 6, 4), (7, 0, 5))\n",
        "final_state = ((1, 2, 3), (8, 0, 4), (7, 6, 5))\n",
        "def heuristic(state):\n",
        "    distance = 0\n",
        "    for i in range(3):\n",
        "        for j in range(3):\n",
        "            value = state[i][j]\n",
        "            if value != 0:\n",
        "                goal_row, goal_col = (value - 1) // 3, (value - 1) % 3\n",
        "                distance += abs(i - goal_row) + abs(j - goal_col)\n",
        "    return distance\n",
        "def astar(initial_state, final_state):\n",
        "    open_list = []\n",
        "    closed_set = set()\n",
        "    heappush(open_list, (0 + heuristic(initial_state), 0, initial_state))\n",
        "    while open_list:\n",
        "        _, g_score, current_state = heappop(open_list)\n",
        "        if current_state == final_state:\n",
        "            return current_state\n",
        "        closed_set.add(current_state)\n",
        "        zero_row, zero_col = -1, -1\n",
        "        for i in range(3):\n",
        "            for j in range(3):\n",
        "                if current_state[i][j] == 0:\n",
        "                    zero_row, zero_col = i, j\n",
        "                    break\n",
        "            if zero_row != -1:\n",
        "                break\n",
        "        for dr, dc in [(0, 1), (1, 0), (0, -1), (-1, 0)]:\n",
        "            new_row, new_col = zero_row + dr, zero_col + dc\n",
        "            if 0 <= new_row < 3 and 0 <= new_col < 3:\n",
        "                new_state = list(map(list, current_state))\n",
        "                new_state[zero_row][zero_col], new_state[new_row][new_col] = new_state[new_row][new_col], new_state[zero_row][zero_col]\n",
        "                new_state = tuple(map(tuple, new_state))\n",
        "                if new_state not in closed_set:\n",
        "                    heappush(open_list, (g_score + 1 + heuristic(new_state), g_score + 1, new_state))\n",
        "    return None\n",
        "result = astar(initial_state, final_state)\n",
        "if result is not None:\n",
        "    print(\"Solution Found:\")\n",
        "    for row in result:\n",
        "        print(row)\n",
        "else:\n",
        "    print(\"No Solution Found.\")\n",
        "\n"
      ],
      "metadata": {
        "colab": {
          "base_uri": "https://localhost:8080/"
        },
        "id": "8AJYPp5NUveR",
        "outputId": "30f7d532-5e4d-4c0f-f4d7-ff2d7d2cf162"
      },
      "execution_count": null,
      "outputs": [
        {
          "output_type": "stream",
          "name": "stdout",
          "text": [
            "Solution Found:\n",
            "(1, 2, 3)\n",
            "(8, 0, 4)\n",
            "(7, 6, 5)\n"
          ]
        }
      ]
    }
  ]
}